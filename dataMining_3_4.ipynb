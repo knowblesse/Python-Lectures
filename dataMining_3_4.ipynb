{
 "cells": [
  {
   "cell_type": "code",
   "execution_count": null,
   "metadata": {
    "collapsed": true,
    "deletable": true,
    "editable": true
   },
   "outputs": [],
   "source": [
    "import numpy as np\n",
    "import pandas\n",
    "import matplotlib.pyplot as plt\n",
    "%matplotlib notebook"
   ]
  },
  {
   "cell_type": "code",
   "execution_count": null,
   "metadata": {
    "collapsed": true,
    "deletable": true,
    "editable": true
   },
   "outputs": [],
   "source": [
    "# read in our data - taking care to check that it is tab-delimited!\n",
    "data = pandas.read_csv('data/dataWeather.txt',delimiter='\\t')"
   ]
  },
  {
   "cell_type": "markdown",
   "metadata": {
    "deletable": true,
    "editable": true
   },
   "source": [
    "# 1R implementation\n",
    "Here, we want to implement the 1R algorithm on the weather data.\n",
    "\n",
    "So, we need to go through each attribute, find the decisions for each value of the attribute and select that value that gives us the maximum number of decisions."
   ]
  },
  {
   "cell_type": "code",
   "execution_count": null,
   "metadata": {
    "collapsed": false,
    "deletable": true,
    "editable": true
   },
   "outputs": [],
   "source": [
    "# this will hold the errors that I make for each attribute\n",
    "err=pandas.DataFrame(np.zeros((1,4)),columns=data.columns[:-1])\n",
    "\n",
    "# loop through all columns\n",
    "for c in data.columns[:-1]:\n",
    "    # for each of the values in the column\n",
    "    for a in data[c].unique():\n",
    "        # check how many times \"yes\" and \"no\" occur\n",
    "        # in the Play column for that attribute value\n",
    "        tmp=data['Play'][data[c]==a].value_counts()\n",
    "        # if that array has two entries\n",
    "        if(tmp.size==2):\n",
    "            # if the number of \"yes\"s outnumber the \"no\"s\n",
    "            # we should decide that this gives us evidence for \"yes\"\n",
    "            if(tmp['Yes']>=tmp['No']):\n",
    "                print(c,': if',a,'-->','Yes',tmp['No'],'errors')\n",
    "                err[c]+=tmp['No']\n",
    "            # if the number of \"no\"s outnumber the \"yes\"s\n",
    "            # we should decide that this gives us evidence for \"no\"\n",
    "            else:\n",
    "                print(c,': if',a,'-->','No',tmp['Yes'],'errors')\n",
    "                err[c]+=tmp['Yes']\n",
    "        # if that array has only one entry, we decide that\n",
    "        # and of course we make no error in this case\n",
    "        else:\n",
    "            print(c,': if',a,'-->',tmp.index[0],'0 errors')\n",
    "print('\\n\\n\\n',err)    \n",
    "print('\\n\\n\\nfound minimum error for attribute',err.idxmin(axis=1)[0])"
   ]
  },
  {
   "cell_type": "markdown",
   "metadata": {
    "deletable": true,
    "editable": true
   },
   "source": [
    "## Results\n",
    "We found two attributes (\"Outlook\" and \"Humidity\") that give us only four errors. The other two attributes (\"Temperature\" and \"Windy\") give us five errors, so we will arbitrarily chose one of the first two attributes for our 1R learner..."
   ]
  },
  {
   "cell_type": "markdown",
   "metadata": {
    "deletable": true,
    "editable": true
   },
   "source": [
    "# Naive Bayes\n",
    "Let's try to implement the Naive Bayes for the weather data similarly to how it is presented in the slides.\n",
    "\n",
    "For this, we will need to estimate the likelihoods:\n",
    "\n",
    "$P(Yes|<Attribute Value>)$ and $P(No|<Attribute Value>)$ and $P(Yes)$ and $P(No)$"
   ]
  },
  {
   "cell_type": "code",
   "execution_count": null,
   "metadata": {
    "collapsed": false,
    "deletable": true,
    "editable": true
   },
   "outputs": [],
   "source": [
    "# Naive Bayes implementation\n",
    "# let's make a dictionary of dataFrames for the storage\n",
    "# of the probabilities\n",
    "bayesData={}\n",
    "\n",
    "# this holds the different decisions we have\n",
    "# I'm assuming they live in the last column of the data\n",
    "dV = data.columns[-1]\n",
    "decisions = data[dV].unique()\n",
    "# how many occurrences of each decision do we have?\n",
    "# this one is used to measure P(yes) and P(no)\n",
    "decisionsCount = data[dV].value_counts()\n",
    "\n",
    "# this holds the independent variables (attributes)\n",
    "iV=data.columns[:-1]\n",
    "\n",
    "# now loop through all independent variables (attributes)\n",
    "for c in iV:\n",
    "    # get the different values we have for each attribute \n",
    "    values = data[c].unique()    \n",
    "    # make an entry in the dictionary with columns consisting\n",
    "    # of the different decisions, indexed by the values of\n",
    "    # the attribute\n",
    "    bayesData[c]=pandas.DataFrame(columns=decisions,index=values)\n",
    "    # now loop through all values of the attribute\n",
    "    for v in values:\n",
    "        # find out the decisions for that value\n",
    "        tmp=data[dV][data[c]==v]\n",
    "        # loop through all decision values \n",
    "        for d in decisions:\n",
    "            # determine the likelihood of that combination\n",
    "            bayesData[c][d][v]=len(tmp[tmp==d])/decisionsCount[d]\n",
    "\n",
    "# print out the likelihoods\n",
    "for c in iV:\n",
    "    print(c,'\\n',bayesData[c],'\\n\\n')\n",
    "\n",
    "# test with a new day\n",
    "newDay = ['Sunny','Cool','High',True]\n",
    "\n",
    "# test all decision categories\n",
    "for d in decisions:\n",
    "    # initialize likelihood\n",
    "    p=1\n",
    "    # collect all likelihoods from table\n",
    "    for n,c in enumerate(iV):\n",
    "        p=p*bayesData[c][d][newDay[n]]\n",
    "    # multiply by the prior, i.e. likelihood of the decision itself\n",
    "    p=p*decisionsCount[d]/decisionsCount.sum()\n",
    "    print(d,':',p)"
   ]
  },
  {
   "cell_type": "markdown",
   "metadata": {
    "deletable": true,
    "editable": true
   },
   "source": [
    "## Results\n",
    "As expected, our new day was classified as a \"No\". These likelihoods are not yet normalized, but since that would not change the maximum operation, we don't actually need to do this."
   ]
  },
  {
   "cell_type": "markdown",
   "metadata": {
    "deletable": true,
    "editable": true
   },
   "source": [
    "## DIY\n",
    "So now I would like to make a function that tests a given day in the format of `newDay` above and returns both the normalized probability and the decision that is made given the Naive Bayes algorithm.\n",
    "\n",
    "You can assume that the data variables are known from the outside, so you do not need to pass them to the function. In addition, the function has a verbose input, which (if true) outputs some information about the decision probabilities it has calculated..."
   ]
  },
  {
   "cell_type": "code",
   "execution_count": null,
   "metadata": {
    "collapsed": false,
    "deletable": true,
    "editable": true
   },
   "outputs": [],
   "source": [
    "# function definition\n",
    "def testDay(newDay,verbose=False):\n",
    "    # initialize probabilities to a numpy array of ones of the correct size\n",
    "    p = np.ones(len(decisions))\n",
    "    \n",
    "    # loop through all possible decisions and get index as well\n",
    "    for ... in enum...:\n",
    "        # collect all probabilities\n",
    "        for n,c in enumerate(iV):\n",
    "            p[nd]=...\n",
    "        # multiply by the likelihood of the decision itself\n",
    "        p[nd]=...\n",
    "        if (verbose):\n",
    "            print('{:s}: {:.5f}'.format(d,p[nd]))\n",
    "    # normalize the array so that probabilities sum up to 1\n",
    "    p=...\n",
    "    # return the highest probability and the decision to the user\n",
    "    return(...,...)"
   ]
  },
  {
   "cell_type": "markdown",
   "metadata": {
    "deletable": true,
    "editable": true
   },
   "source": [
    "If you test this function with our `newDay` variable, you should get the following output:\n",
    "\n",
    "`In [NN]: testDay(newDay)`\n",
    "\n",
    "`Out[NN]: (0.79541734860883795, 'No')`"
   ]
  },
  {
   "cell_type": "code",
   "execution_count": null,
   "metadata": {
    "collapsed": false,
    "deletable": true,
    "editable": true
   },
   "outputs": [],
   "source": [
    "testDay(newDay)"
   ]
  },
  {
   "cell_type": "markdown",
   "metadata": {
    "deletable": true,
    "editable": true
   },
   "source": [
    "## DIY - Results and comparison with 1R\n",
    "We would like to see whether Naive Bayes is actually better than 1R.\n",
    "\n",
    "For this, implement a for-loop that goes through all rows of the input data `data` and tests each day. How many errors do you get with Naive Bayes??"
   ]
  },
  {
   "cell_type": "code",
   "execution_count": null,
   "metadata": {
    "collapsed": false,
    "deletable": true,
    "editable": true
   },
   "outputs": [],
   "source": [
    "for ... in rows of data:\n",
    "    # print both the result of testDay and the actual TRUE result from the data array!\n",
    "    print(testDay(day),...)"
   ]
  }
 ],
 "metadata": {
  "kernelspec": {
   "display_name": "Python 3",
   "language": "python",
   "name": "python3"
  },
  "language_info": {
   "codemirror_mode": {
    "name": "ipython",
    "version": 3
   },
   "file_extension": ".py",
   "mimetype": "text/x-python",
   "name": "python",
   "nbconvert_exporter": "python",
   "pygments_lexer": "ipython3",
   "version": "3.5.1"
  }
 },
 "nbformat": 4,
 "nbformat_minor": 2
}
